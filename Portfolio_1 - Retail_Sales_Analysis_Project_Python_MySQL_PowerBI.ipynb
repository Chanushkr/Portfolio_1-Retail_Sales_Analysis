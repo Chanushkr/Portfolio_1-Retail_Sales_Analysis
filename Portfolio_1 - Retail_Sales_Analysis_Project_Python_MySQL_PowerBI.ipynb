{
 "cells": [
  {
   "cell_type": "markdown",
   "id": "62adc4c5-fc04-49b2-b651-b0deb80f2b20",
   "metadata": {},
   "source": [
    "# 🧼 Retail Sales Data Cleaning and Preparation (Portfolio Project 1)\n",
    "\n",
    "This is my first end-to-end portfolio project where I demonstrate the complete data cleaning and preparation workflow using **Python (Pandas)** and exporting the cleaned dataset into a **MySQL database**, which will later be connected to **Power BI** for building reports and dashboards.\n",
    "\n",
    "---\n",
    "\n",
    "## 📌 Project Overview\n",
    "\n",
    "**Source Data:** Online Retail Dataset (Excel file)\\\n",
    "**Tools Used:** Python, Pandas, MySQL, SQLAlchemy, Power BI\\\n",
    "**Goal:** Prepare clean, structured data ready for analysis and visualization\n",
    "\n",
    "---\n",
    "\n",
    "## 📁 Step 1: Import Required Libraries\n",
    "\n",
    "```python\n"
   ]
  },
  {
   "cell_type": "code",
   "execution_count": 6,
   "id": "7587bc07-fb06-4e94-bb6f-8cb838537f88",
   "metadata": {},
   "outputs": [],
   "source": [
    "import pandas as pd\n"
   ]
  },
  {
   "cell_type": "code",
   "execution_count": null,
   "id": "96c79194-60d9-4ef2-adfe-037250b28862",
   "metadata": {},
   "outputs": [],
   "source": []
  },
  {
   "cell_type": "markdown",
   "id": "1aa315e2-b1c3-4745-8956-1b0adc7388a1",
   "metadata": {},
   "source": [
    "## 📥 Step 2: Load the Excel Data into a DataFrame"
   ]
  },
  {
   "cell_type": "code",
   "execution_count": 3,
   "id": "d408dc76-e290-41cc-93ea-af353ab0cdf9",
   "metadata": {},
   "outputs": [],
   "source": [
    "df = pd.read_excel(\"Data/Online Retail.xlsx\")\n"
   ]
  },
  {
   "cell_type": "code",
   "execution_count": 14,
   "id": "a64f4e5c-03b6-4b42-a070-8fa2483bd7bf",
   "metadata": {},
   "outputs": [
    {
     "data": {
      "text/html": [
       "<div>\n",
       "<style scoped>\n",
       "    .dataframe tbody tr th:only-of-type {\n",
       "        vertical-align: middle;\n",
       "    }\n",
       "\n",
       "    .dataframe tbody tr th {\n",
       "        vertical-align: top;\n",
       "    }\n",
       "\n",
       "    .dataframe thead th {\n",
       "        text-align: right;\n",
       "    }\n",
       "</style>\n",
       "<table border=\"1\" class=\"dataframe\">\n",
       "  <thead>\n",
       "    <tr style=\"text-align: right;\">\n",
       "      <th></th>\n",
       "      <th>InvoiceNo</th>\n",
       "      <th>StockCode</th>\n",
       "      <th>Description</th>\n",
       "      <th>Quantity</th>\n",
       "      <th>InvoiceDate</th>\n",
       "      <th>UnitPrice</th>\n",
       "      <th>CustomerID</th>\n",
       "      <th>Country</th>\n",
       "    </tr>\n",
       "  </thead>\n",
       "  <tbody>\n",
       "    <tr>\n",
       "      <th>0</th>\n",
       "      <td>536365</td>\n",
       "      <td>85123A</td>\n",
       "      <td>WHITE HANGING HEART T-LIGHT HOLDER</td>\n",
       "      <td>6</td>\n",
       "      <td>2010-12-01 08:26:00</td>\n",
       "      <td>2.55</td>\n",
       "      <td>17850.0</td>\n",
       "      <td>United Kingdom</td>\n",
       "    </tr>\n",
       "    <tr>\n",
       "      <th>1</th>\n",
       "      <td>536365</td>\n",
       "      <td>71053</td>\n",
       "      <td>WHITE METAL LANTERN</td>\n",
       "      <td>6</td>\n",
       "      <td>2010-12-01 08:26:00</td>\n",
       "      <td>3.39</td>\n",
       "      <td>17850.0</td>\n",
       "      <td>United Kingdom</td>\n",
       "    </tr>\n",
       "    <tr>\n",
       "      <th>2</th>\n",
       "      <td>536365</td>\n",
       "      <td>84406B</td>\n",
       "      <td>CREAM CUPID HEARTS COAT HANGER</td>\n",
       "      <td>8</td>\n",
       "      <td>2010-12-01 08:26:00</td>\n",
       "      <td>2.75</td>\n",
       "      <td>17850.0</td>\n",
       "      <td>United Kingdom</td>\n",
       "    </tr>\n",
       "    <tr>\n",
       "      <th>3</th>\n",
       "      <td>536365</td>\n",
       "      <td>84029G</td>\n",
       "      <td>KNITTED UNION FLAG HOT WATER BOTTLE</td>\n",
       "      <td>6</td>\n",
       "      <td>2010-12-01 08:26:00</td>\n",
       "      <td>3.39</td>\n",
       "      <td>17850.0</td>\n",
       "      <td>United Kingdom</td>\n",
       "    </tr>\n",
       "    <tr>\n",
       "      <th>4</th>\n",
       "      <td>536365</td>\n",
       "      <td>84029E</td>\n",
       "      <td>RED WOOLLY HOTTIE WHITE HEART.</td>\n",
       "      <td>6</td>\n",
       "      <td>2010-12-01 08:26:00</td>\n",
       "      <td>3.39</td>\n",
       "      <td>17850.0</td>\n",
       "      <td>United Kingdom</td>\n",
       "    </tr>\n",
       "  </tbody>\n",
       "</table>\n",
       "</div>"
      ],
      "text/plain": [
       "  InvoiceNo StockCode                          Description  Quantity  \\\n",
       "0    536365    85123A   WHITE HANGING HEART T-LIGHT HOLDER         6   \n",
       "1    536365     71053                  WHITE METAL LANTERN         6   \n",
       "2    536365    84406B       CREAM CUPID HEARTS COAT HANGER         8   \n",
       "3    536365    84029G  KNITTED UNION FLAG HOT WATER BOTTLE         6   \n",
       "4    536365    84029E       RED WOOLLY HOTTIE WHITE HEART.         6   \n",
       "\n",
       "          InvoiceDate  UnitPrice  CustomerID         Country  \n",
       "0 2010-12-01 08:26:00       2.55     17850.0  United Kingdom  \n",
       "1 2010-12-01 08:26:00       3.39     17850.0  United Kingdom  \n",
       "2 2010-12-01 08:26:00       2.75     17850.0  United Kingdom  \n",
       "3 2010-12-01 08:26:00       3.39     17850.0  United Kingdom  \n",
       "4 2010-12-01 08:26:00       3.39     17850.0  United Kingdom  "
      ]
     },
     "execution_count": 14,
     "metadata": {},
     "output_type": "execute_result"
    }
   ],
   "source": [
    "df.head()"
   ]
  },
  {
   "cell_type": "code",
   "execution_count": 16,
   "id": "3c9c1aba-d6e7-4e0e-b8f4-10fb009aa009",
   "metadata": {},
   "outputs": [
    {
     "data": {
      "text/plain": [
       "(541909, 8)"
      ]
     },
     "execution_count": 16,
     "metadata": {},
     "output_type": "execute_result"
    }
   ],
   "source": [
    "df.shape"
   ]
  },
  {
   "cell_type": "code",
   "execution_count": 18,
   "id": "d99346d8-e9cd-4ca6-bd15-1401230a6a1b",
   "metadata": {},
   "outputs": [
    {
     "data": {
      "text/plain": [
       "InvoiceNo              object\n",
       "StockCode              object\n",
       "Description            object\n",
       "Quantity                int64\n",
       "InvoiceDate    datetime64[ns]\n",
       "UnitPrice             float64\n",
       "CustomerID            float64\n",
       "Country                object\n",
       "dtype: object"
      ]
     },
     "execution_count": 18,
     "metadata": {},
     "output_type": "execute_result"
    }
   ],
   "source": [
    "df.dtypes"
   ]
  },
  {
   "cell_type": "code",
   "execution_count": 20,
   "id": "9fd1f975-6088-4dd5-818b-af38635e6c06",
   "metadata": {},
   "outputs": [
    {
     "data": {
      "text/html": [
       "<div>\n",
       "<style scoped>\n",
       "    .dataframe tbody tr th:only-of-type {\n",
       "        vertical-align: middle;\n",
       "    }\n",
       "\n",
       "    .dataframe tbody tr th {\n",
       "        vertical-align: top;\n",
       "    }\n",
       "\n",
       "    .dataframe thead th {\n",
       "        text-align: right;\n",
       "    }\n",
       "</style>\n",
       "<table border=\"1\" class=\"dataframe\">\n",
       "  <thead>\n",
       "    <tr style=\"text-align: right;\">\n",
       "      <th></th>\n",
       "      <th>count</th>\n",
       "      <th>mean</th>\n",
       "      <th>min</th>\n",
       "      <th>25%</th>\n",
       "      <th>50%</th>\n",
       "      <th>75%</th>\n",
       "      <th>max</th>\n",
       "      <th>std</th>\n",
       "    </tr>\n",
       "  </thead>\n",
       "  <tbody>\n",
       "    <tr>\n",
       "      <th>Quantity</th>\n",
       "      <td>541909.0</td>\n",
       "      <td>9.55</td>\n",
       "      <td>-80995.0</td>\n",
       "      <td>1.0</td>\n",
       "      <td>3.0</td>\n",
       "      <td>10.0</td>\n",
       "      <td>80995.0</td>\n",
       "      <td>218.08</td>\n",
       "    </tr>\n",
       "    <tr>\n",
       "      <th>InvoiceDate</th>\n",
       "      <td>541909</td>\n",
       "      <td>2011-07-04 13:34:57.156386048</td>\n",
       "      <td>2010-12-01 08:26:00</td>\n",
       "      <td>2011-03-28 11:34:00</td>\n",
       "      <td>2011-07-19 17:17:00</td>\n",
       "      <td>2011-10-19 11:27:00</td>\n",
       "      <td>2011-12-09 12:50:00</td>\n",
       "      <td>NaN</td>\n",
       "    </tr>\n",
       "    <tr>\n",
       "      <th>UnitPrice</th>\n",
       "      <td>541909.0</td>\n",
       "      <td>4.61</td>\n",
       "      <td>-11062.06</td>\n",
       "      <td>1.25</td>\n",
       "      <td>2.08</td>\n",
       "      <td>4.13</td>\n",
       "      <td>38970.0</td>\n",
       "      <td>96.76</td>\n",
       "    </tr>\n",
       "    <tr>\n",
       "      <th>CustomerID</th>\n",
       "      <td>406829.0</td>\n",
       "      <td>15287.69</td>\n",
       "      <td>12346.0</td>\n",
       "      <td>13953.0</td>\n",
       "      <td>15152.0</td>\n",
       "      <td>16791.0</td>\n",
       "      <td>18287.0</td>\n",
       "      <td>1713.6</td>\n",
       "    </tr>\n",
       "  </tbody>\n",
       "</table>\n",
       "</div>"
      ],
      "text/plain": [
       "                count                           mean                  min  \\\n",
       "Quantity     541909.0                           9.55             -80995.0   \n",
       "InvoiceDate    541909  2011-07-04 13:34:57.156386048  2010-12-01 08:26:00   \n",
       "UnitPrice    541909.0                           4.61            -11062.06   \n",
       "CustomerID   406829.0                       15287.69              12346.0   \n",
       "\n",
       "                             25%                  50%                  75%  \\\n",
       "Quantity                     1.0                  3.0                 10.0   \n",
       "InvoiceDate  2011-03-28 11:34:00  2011-07-19 17:17:00  2011-10-19 11:27:00   \n",
       "UnitPrice                   1.25                 2.08                 4.13   \n",
       "CustomerID               13953.0              15152.0              16791.0   \n",
       "\n",
       "                             max     std  \n",
       "Quantity                 80995.0  218.08  \n",
       "InvoiceDate  2011-12-09 12:50:00     NaN  \n",
       "UnitPrice                38970.0   96.76  \n",
       "CustomerID               18287.0  1713.6  "
      ]
     },
     "execution_count": 20,
     "metadata": {},
     "output_type": "execute_result"
    }
   ],
   "source": [
    "df.describe().round(2).T"
   ]
  },
  {
   "cell_type": "code",
   "execution_count": null,
   "id": "836d6ddd-1f57-4166-9d5a-9d4f81e67467",
   "metadata": {},
   "outputs": [],
   "source": []
  },
  {
   "cell_type": "markdown",
   "id": "061327a3-b523-49e7-9a0e-139c71dc4b31",
   "metadata": {},
   "source": [
    "## ❓ Step 3: Check for Missing Values"
   ]
  },
  {
   "cell_type": "code",
   "execution_count": 24,
   "id": "539836ac-7ad2-476a-9707-f5296b7f31d1",
   "metadata": {},
   "outputs": [
    {
     "name": "stdout",
     "output_type": "stream",
     "text": [
      "InvoiceNo           0\n",
      "StockCode           0\n",
      "Description      1454\n",
      "Quantity            0\n",
      "InvoiceDate         0\n",
      "UnitPrice           0\n",
      "CustomerID     135080\n",
      "Country             0\n",
      "dtype: int64\n"
     ]
    }
   ],
   "source": [
    "print(df.isnull().sum())"
   ]
  },
  {
   "cell_type": "code",
   "execution_count": null,
   "id": "bdf69f9e-7c3b-4a11-a5ea-9cbec10671fe",
   "metadata": {},
   "outputs": [],
   "source": []
  },
  {
   "cell_type": "markdown",
   "id": "3e265e56-f9a0-4551-8445-e06b60cbbde9",
   "metadata": {},
   "source": [
    "### Calculate % of missing values\n"
   ]
  },
  {
   "cell_type": "code",
   "execution_count": 29,
   "id": "fa9f4381-3822-42dd-8139-8a0f49a48a5b",
   "metadata": {},
   "outputs": [
    {
     "name": "stdout",
     "output_type": "stream",
     "text": [
      "Description      0.27 %\n",
      "CustomerID      24.93 %\n",
      "dtype: object\n"
     ]
    }
   ],
   "source": [
    "missing_values_percentage = df.isnull().mean() * 100\n",
    "missing_filtered = missing_values_percentage[missing_values_percentage > 0]\n",
    "missing_with_symbol = missing_filtered.apply(lambda x: f\"{x: .2f} %\")\n",
    "print(missing_with_symbol)"
   ]
  },
  {
   "cell_type": "code",
   "execution_count": null,
   "id": "802f4fd6-912d-4cd9-842d-57b7069f3481",
   "metadata": {},
   "outputs": [],
   "source": []
  },
  {
   "cell_type": "markdown",
   "id": "26180d4f-07ab-42a6-b9ea-650b71517f02",
   "metadata": {},
   "source": [
    "## 🧹 Step 4: Clean the Data"
   ]
  },
  {
   "cell_type": "markdown",
   "id": "ffdface4-2676-40f7-924c-3e06f120391b",
   "metadata": {},
   "source": [
    "### Drop rows with missing product descriptions\n"
   ]
  },
  {
   "cell_type": "code",
   "execution_count": 34,
   "id": "79ec9ff1-a5d0-4868-b7bb-1c0186b48475",
   "metadata": {},
   "outputs": [],
   "source": [
    "df = df.dropna(subset=['Description'])"
   ]
  },
  {
   "cell_type": "code",
   "execution_count": null,
   "id": "8254cf64-1daa-4c1f-ae5d-dfd06626a160",
   "metadata": {},
   "outputs": [],
   "source": []
  },
  {
   "cell_type": "markdown",
   "id": "06d453fc-77b2-4196-b5c6-67b17f671d3e",
   "metadata": {},
   "source": [
    "### Drop rows with missing customer IDs"
   ]
  },
  {
   "cell_type": "code",
   "execution_count": 38,
   "id": "c692a918-d5a9-4799-bcd4-c1174360eabc",
   "metadata": {},
   "outputs": [],
   "source": [
    "df = df.dropna(subset=['CustomerID'])"
   ]
  },
  {
   "cell_type": "code",
   "execution_count": null,
   "id": "c55c5238-af7f-4dcd-8ca3-ed42ee6a590c",
   "metadata": {},
   "outputs": [],
   "source": []
  },
  {
   "cell_type": "markdown",
   "id": "200cbed9-aa4c-4c25-a0f7-730f1133f6e6",
   "metadata": {},
   "source": [
    "## 🔄 Step 5: Tag Sales vs Returns"
   ]
  },
  {
   "cell_type": "markdown",
   "id": "c586d102-e184-4d17-b9c4-6f46365a2117",
   "metadata": {},
   "source": [
    "### Check number of returns"
   ]
  },
  {
   "cell_type": "code",
   "execution_count": 49,
   "id": "615f3fb0-0bff-46c0-9226-981d1de0b56f",
   "metadata": {},
   "outputs": [
    {
     "name": "stdout",
     "output_type": "stream",
     "text": [
      "Total Sales Quantity: \u001b[1m397,924\u001b[0m\n"
     ]
    }
   ],
   "source": [
    "sales_qty = df[df['Quantity'] > 0].shape[0]\n",
    "returns_qty = df.shape[0] - sales_qty\n",
    "print(f\"Total Sales Quantity: \\033[1m{sales_qty:,}\\033[0m\")"
   ]
  },
  {
   "cell_type": "code",
   "execution_count": 51,
   "id": "ce69614b-c687-4663-9716-e6416f5e02a1",
   "metadata": {},
   "outputs": [
    {
     "name": "stdout",
     "output_type": "stream",
     "text": [
      "Total Return Quantity: \u001b[1m8,905\u001b[0m\n"
     ]
    }
   ],
   "source": [
    "print(f\"Total Return Quantity: \\033[1m{returns_qty:,}\\033[0m\")"
   ]
  },
  {
   "cell_type": "code",
   "execution_count": null,
   "id": "46335d58-ec8a-4cf6-8dbe-6f411383f3d0",
   "metadata": {},
   "outputs": [],
   "source": []
  },
  {
   "cell_type": "markdown",
   "id": "d5d7cf9f-cdd8-4088-b6ee-fa5652f96899",
   "metadata": {},
   "source": [
    "### Tag transaction type"
   ]
  },
  {
   "cell_type": "code",
   "execution_count": 54,
   "id": "b31cde5c-fefe-4ed4-a998-19fb813c75e8",
   "metadata": {},
   "outputs": [],
   "source": [
    "df['Transaction_Type'] = df['Quantity'].apply(lambda x: 'Return' if x < 0 else 'Sale')"
   ]
  },
  {
   "cell_type": "code",
   "execution_count": null,
   "id": "031950fe-e17f-4e54-842e-6afa4e48651b",
   "metadata": {},
   "outputs": [],
   "source": []
  },
  {
   "cell_type": "markdown",
   "id": "1c41d673-adc6-4ab6-8d45-3579fd4ccc8c",
   "metadata": {},
   "source": [
    "## 💰 Step 6: Create Revenue Column"
   ]
  },
  {
   "cell_type": "code",
   "execution_count": 61,
   "id": "e09a03ac-40e6-4c99-93c3-8b486e9dbaf0",
   "metadata": {},
   "outputs": [],
   "source": [
    "df['TotalPrice'] = df['Quantity'] * df['UnitPrice']"
   ]
  },
  {
   "cell_type": "code",
   "execution_count": null,
   "id": "b9dcb28a-8904-4e97-b242-2b6ec225025f",
   "metadata": {},
   "outputs": [],
   "source": []
  },
  {
   "cell_type": "markdown",
   "id": "359a536b-01fd-4ad7-812f-610303bc3521",
   "metadata": {},
   "source": [
    "## 📅 Step 7: Parse Dates and Extract Components\n"
   ]
  },
  {
   "cell_type": "code",
   "execution_count": 65,
   "id": "6ed6ae82-5592-4a6d-95f2-b16b3e01ff33",
   "metadata": {},
   "outputs": [],
   "source": [
    "df['InvoiceDate'] = pd.to_datetime(df['InvoiceDate'])\n",
    "df['InvoiceYear'] = df['InvoiceDate'].dt.year\n",
    "df['InvoiceQuarter'] = df['InvoiceDate'].dt.quarter\n",
    "df['InvoiceMonth'] = df['InvoiceDate'].dt.month"
   ]
  },
  {
   "cell_type": "code",
   "execution_count": null,
   "id": "1a2df6c8-2ab1-4319-9833-c1b37f370ad1",
   "metadata": {},
   "outputs": [],
   "source": []
  },
  {
   "cell_type": "markdown",
   "id": "282a3a08-f452-412c-bb0f-1167d42eedb6",
   "metadata": {},
   "source": [
    "## 🧾 Step 8: Remove Duplicate Rows"
   ]
  },
  {
   "cell_type": "code",
   "execution_count": 75,
   "id": "bc846d34-60ab-4b0a-9c53-e574364e3c3b",
   "metadata": {},
   "outputs": [
    {
     "name": "stdout",
     "output_type": "stream",
     "text": [
      "Number of Duplicate rows: \u001b[1m5,225\u001b[0m\n"
     ]
    }
   ],
   "source": [
    "duplicate_rows = df[df.duplicated()]\n",
    "print(f\"Number of Duplicate rows: \\033[1m{duplicate_rows.shape[0]:,}\\033[0m\")"
   ]
  },
  {
   "cell_type": "code",
   "execution_count": null,
   "id": "bafc3cd9-0711-4e1f-90b5-55ab3b051a3d",
   "metadata": {},
   "outputs": [],
   "source": []
  },
  {
   "cell_type": "markdown",
   "id": "4e2598af-de6f-4291-82fb-fc9e83dce49e",
   "metadata": {},
   "source": [
    "### Keep only the first occurrence"
   ]
  },
  {
   "cell_type": "code",
   "execution_count": 78,
   "id": "ccdbc1d2-bf0a-406b-a773-5fda36501ca1",
   "metadata": {},
   "outputs": [],
   "source": [
    "df = df.drop_duplicates()"
   ]
  },
  {
   "cell_type": "code",
   "execution_count": null,
   "id": "8d631302-6dd6-4a96-a34f-ca63de1bb30a",
   "metadata": {},
   "outputs": [],
   "source": []
  },
  {
   "cell_type": "markdown",
   "id": "9e668b70-3b7b-4e3f-a8ff-ff33c1d8c560",
   "metadata": {},
   "source": [
    "## 📝 Data Cleaning Summary\n",
    "1. Dropped missing values from Description and CustomerID for valid product and customer-level insights\n",
    "\n",
    "2. Tagged each transaction as a Sale or Return based on Quantity\n",
    "\n",
    "3. Created TotalPrice for each line item to compute revenue\n",
    "\n",
    "4. Converted InvoiceDate to datetime and extracted Year, Quarter, and Month\n",
    "\n",
    "5. Removed duplicates to maintain data consistency\n"
   ]
  },
  {
   "cell_type": "code",
   "execution_count": null,
   "id": "96f59c96-0202-40e7-ab95-d99355b6bf3d",
   "metadata": {},
   "outputs": [],
   "source": []
  },
  {
   "cell_type": "markdown",
   "id": "d49714b2-8cb9-4b73-b9f0-a109f7b2139f",
   "metadata": {},
   "source": [
    "## 💾 Step 9: Export Cleaned Data to CSV"
   ]
  },
  {
   "cell_type": "code",
   "execution_count": 90,
   "id": "ebe73116-4ca2-4c2c-a71e-5fca2309847d",
   "metadata": {},
   "outputs": [],
   "source": [
    "df.to_csv('Data/cleaned_online_retail.csv', index=False)"
   ]
  },
  {
   "cell_type": "code",
   "execution_count": null,
   "id": "0f7ab9c6-378e-4962-8f12-e5fcad23f017",
   "metadata": {},
   "outputs": [],
   "source": []
  },
  {
   "cell_type": "markdown",
   "id": "8b2060b3-03b0-4517-9893-d7d03e9ddd61",
   "metadata": {},
   "source": [
    "## 🛢️ Step 10: Export Cleaned Data to MySQL"
   ]
  },
  {
   "cell_type": "markdown",
   "id": "1ab54c82-5113-4d94-8b21-4c4faba85be2",
   "metadata": {},
   "source": [
    "### Install Required Libraries"
   ]
  },
  {
   "cell_type": "code",
   "execution_count": 96,
   "id": "4c22ca70-c60d-45b5-872b-78c470cae59a",
   "metadata": {},
   "outputs": [
    {
     "name": "stdout",
     "output_type": "stream",
     "text": [
      "Requirement already satisfied: mysql-connector-python in d:\\udemy courses\\krish naik_ds_course\\python\\1_python_basics\\cvenv\\lib\\site-packages (9.3.0)\n",
      "Requirement already satisfied: sqlalchemy in d:\\udemy courses\\krish naik_ds_course\\python\\1_python_basics\\cvenv\\lib\\site-packages (2.0.41)\n",
      "Requirement already satisfied: greenlet>=1 in d:\\udemy courses\\krish naik_ds_course\\python\\1_python_basics\\cvenv\\lib\\site-packages (from sqlalchemy) (3.2.3)\n",
      "Requirement already satisfied: typing-extensions>=4.6.0 in d:\\udemy courses\\krish naik_ds_course\\python\\1_python_basics\\cvenv\\lib\\site-packages (from sqlalchemy) (4.13.2)\n"
     ]
    }
   ],
   "source": [
    "!pip install mysql-connector-python\n",
    "!pip install sqlalchemy"
   ]
  },
  {
   "cell_type": "code",
   "execution_count": null,
   "id": "b872241e-1ebf-4dd6-b3f8-c8899985d25c",
   "metadata": {},
   "outputs": [],
   "source": []
  },
  {
   "cell_type": "markdown",
   "id": "96817e11-c2e0-4184-aa09-59e5871f0d19",
   "metadata": {},
   "source": [
    "### Create SQLAlchemy Engine and Export Data"
   ]
  },
  {
   "cell_type": "code",
   "execution_count": 99,
   "id": "4accd679-4c37-44ca-9332-467fc5357659",
   "metadata": {},
   "outputs": [],
   "source": [
    "from sqlalchemy import create_engine\n",
    "import urllib.parse"
   ]
  },
  {
   "cell_type": "code",
   "execution_count": 123,
   "id": "9f2a765d-708a-4a0c-b893-cbb36bd45744",
   "metadata": {},
   "outputs": [],
   "source": [
    "host = \"localhost\"\n",
    "user = \"root\"\n",
    "password = urllib.parse.quote_plus(\"your_mysql_password\")  # encode special characters\n",
    "database = \"portfolio1_retail_sales_analysis\""
   ]
  },
  {
   "cell_type": "code",
   "execution_count": null,
   "id": "74c26b9b-af9d-430e-98e6-ee8310bf47d5",
   "metadata": {},
   "outputs": [],
   "source": []
  },
  {
   "cell_type": "code",
   "execution_count": 119,
   "id": "b73a75c6-9a23-4ded-bb2c-435f7b765f3a",
   "metadata": {},
   "outputs": [],
   "source": [
    "connection = create_engine(f\"mysql+mysqlconnector://{user}:{password}@{host}/{database}\")"
   ]
  },
  {
   "cell_type": "code",
   "execution_count": 121,
   "id": "4890417b-177a-44fb-9548-28e947397a2a",
   "metadata": {},
   "outputs": [
    {
     "data": {
      "text/plain": [
       "401604"
      ]
     },
     "execution_count": 121,
     "metadata": {},
     "output_type": "execute_result"
    }
   ],
   "source": [
    "df.to_sql(name='retail_sales_cleaned', con=connection, if_exists='replace', index=False)"
   ]
  },
  {
   "cell_type": "markdown",
   "id": "b4500a13-be88-4148-b798-72b57d66fc37",
   "metadata": {},
   "source": [
    "## 🔄 Next Steps\n",
    "1. Create fact and dimension tables from the cleaned data in MySQL\n",
    "2. Use Power BI to connect to MySQL and build dashboards\n",
    "3. Perform RFM Analysis, Sales Trends, Customer Segmentation, and more!"
   ]
  },
  {
   "cell_type": "code",
   "execution_count": null,
   "id": "150ca655-0710-40f2-8184-8f41514b6b02",
   "metadata": {},
   "outputs": [],
   "source": []
  },
  {
   "cell_type": "markdown",
   "id": "82770fad-0f4b-4d8e-adb4-d376e858b6b5",
   "metadata": {},
   "source": [
    "## 📌 Tags\n",
    "Python Pandas MySQL SQLAlchemy ETL Data Cleaning Portfolio Project Power BI"
   ]
  },
  {
   "cell_type": "code",
   "execution_count": null,
   "id": "8e0449b2-bd16-4314-9f5b-4d929d2f17b0",
   "metadata": {},
   "outputs": [],
   "source": []
  },
  {
   "cell_type": "markdown",
   "id": "4cefd47b-7894-406c-8cef-ad88c08dc595",
   "metadata": {},
   "source": [
    "⭐ Thanks for checking out my project! Stay tuned for the Power BI report and insights coming soon."
   ]
  },
  {
   "cell_type": "code",
   "execution_count": null,
   "id": "b58a14ac-a9f4-4466-9f7c-03c9e3f3406f",
   "metadata": {},
   "outputs": [],
   "source": []
  }
 ],
 "metadata": {
  "kernelspec": {
   "display_name": "Python [conda env:cvenv]",
   "language": "python",
   "name": "conda-env-cvenv-py"
  },
  "language_info": {
   "codemirror_mode": {
    "name": "ipython",
    "version": 3
   },
   "file_extension": ".py",
   "mimetype": "text/x-python",
   "name": "python",
   "nbconvert_exporter": "python",
   "pygments_lexer": "ipython3",
   "version": "3.12.0"
  }
 },
 "nbformat": 4,
 "nbformat_minor": 5
}
